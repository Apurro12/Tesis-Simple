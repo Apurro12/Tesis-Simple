{
 "cells": [
  {
   "cell_type": "code",
   "execution_count": 1,
   "id": "appropriate-measure",
   "metadata": {},
   "outputs": [],
   "source": [
    "from scipy.special import gammaincc, gamma\n",
    "from matplotlib import pyplot as plt\n",
    "from funciones import *\n",
    "from numpy import pi\n",
    "import numpy as np\n",
    "from numpy import exp\n",
    "import tqdm\n",
    "from scipy.special import exp1"
   ]
  },
  {
   "cell_type": "code",
   "execution_count": 2,
   "id": "upper-spectrum",
   "metadata": {},
   "outputs": [],
   "source": [
    "def casimir_fuerza(a,y):\n",
    "    delta_y2 = ((y.max(axis = 1) - y.min(axis = 1))**2).mean()\n",
    "    return - delta_y2 / (8* (np.pi) * a**2)"
   ]
  },
  {
   "cell_type": "code",
   "execution_count": null,
   "id": "colonial-beatles",
   "metadata": {},
   "outputs": [],
   "source": [
    "n_lines_, N_ = [10000,1000, 100, 10000,1000, 100, 10000,1000, 100], [10000,10000, 10000, 1000,1000, 1000,100,100,100]\n",
    "\n",
    "for n_lines, N in zip(n_lines_, N_):\n",
    "    \n",
    "    \n",
    "    y = generar_lineas(n_lines =n_lines, N = N, y0 = 0, yN = 0)\n",
    "    casimir_fuerza(1, y)\n",
    "    \n",
    "    print(n_lines, N, np.abs((casimir_fuerza(1, y) - F_teorica_a2) / F_teorica_a2))"
   ]
  }
 ],
 "metadata": {
  "kernelspec": {
   "display_name": "Python 3",
   "language": "python",
   "name": "python3"
  },
  "language_info": {
   "codemirror_mode": {
    "name": "ipython",
    "version": 3
   },
   "file_extension": ".py",
   "mimetype": "text/x-python",
   "name": "python",
   "nbconvert_exporter": "python",
   "pygments_lexer": "ipython3",
   "version": "3.8.5"
  }
 },
 "nbformat": 4,
 "nbformat_minor": 5
}
