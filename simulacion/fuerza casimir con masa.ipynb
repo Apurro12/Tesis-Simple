{
 "cells": [
  {
   "cell_type": "code",
   "execution_count": 1,
   "id": "mechanical-warren",
   "metadata": {},
   "outputs": [],
   "source": [
    "from matplotlib import pyplot as plt\n",
    "\n",
    "from funciones import *\n",
    "\n",
    "import numpy as np\n",
    "from numpy import pi\n",
    "\n",
    "from numpy import exp, sqrt\n",
    "from scipy.special import gammaincc, gamma, erf, exp1\n",
    "from scipy import integrate\n",
    "\n",
    "import tqdm"
   ]
  },
  {
   "cell_type": "code",
   "execution_count": 2,
   "id": "sudden-biography",
   "metadata": {},
   "outputs": [],
   "source": [
    "n_lines = 10**4\n",
    "N = 10**4\n",
    "\n",
    "y = generar_lineas(n_lines = n_lines, N = N, y0 = 0, yN = 0)\n",
    "delta = (y.max(axis = 1) - y.min(axis = 1))\n",
    "masas = np.linspace(0.01,5,1000)"
   ]
  },
  {
   "cell_type": "code",
   "execution_count": 83,
   "id": "knowing-january",
   "metadata": {},
   "outputs": [],
   "source": [
    "def fuerza_casimir_numerica(a,m,delta) -> np.array (delta.shape): \n",
    "    \n",
    "    primer_termino  = m**2  *exp1(a**2 * m**2 / delta**2) / (8 * pi) if m!= 0 else 0\n",
    "    segundo_termino = - delta**2 * np.exp(-a**2 * m**2 / delta**2) / (8 * a**2 * pi)\n",
    "    \n",
    "    return primer_termino + segundo_termino\n",
    "\n",
    "def fuerza_casimir_analitica(a,m) -> float:\n",
    "    return -integrate.quad(lambda t: t**2 / (np.sqrt(t**2-m**2)*(np.exp(2*a*t)-1)),m,np.inf)[0] / np.pi"
   ]
  },
  {
   "cell_type": "code",
   "execution_count": 4,
   "id": "graduate-publicity",
   "metadata": {},
   "outputs": [
    {
     "name": "stderr",
     "output_type": "stream",
     "text": [
      "<ipython-input-3-dda7971a9bf9>:9: RuntimeWarning: overflow encountered in exp\n",
      "  return -integrate.quad(lambda t: t**2 / (np.sqrt(t**2-m**2)*(np.exp(2*a*t)-1)),m,np.inf)[0] / np.pi\n"
     ]
    }
   ],
   "source": [
    "fuerzas_analiticas = []\n",
    "for masa in masas:\n",
    "    fuerzas_analiticas.append(fuerza_casimir_analitica(1,masa))\n",
    "    \n",
    "fuerzas_analiticas = np.array(fuerzas_analiticas) #shape = masas.shape "
   ]
  },
  {
   "cell_type": "code",
   "execution_count": 5,
   "id": "established-earthquake",
   "metadata": {},
   "outputs": [],
   "source": [
    "fuerzas_numericas = []\n",
    "desviaciones_estandar = []\n",
    "fuerzas_casimir = []\n",
    "\n",
    "for masa in masas:\n",
    "    fuerza_casimir = fuerza_casimir_numerica(1,masa,delta) #delta.shape\n",
    "    \n",
    "    fuerzas_casimir.append(fuerza_casimir) #shape = (masa.shape, delta.shape)\n",
    "    desviaciones_estandar.append(fuerza_casimir.std()) #shape = masa.shape\n",
    "    fuerzas_numericas.append(fuerza_casimir.mean()) #shape =  masa.shape\n",
    "    \n",
    "fuerzas_numericas = np.array(fuerzas_numericas)\n",
    "desviaciones_estandar = np.array(desviaciones_estandar)\n",
    "fuerzas_casimir = np.array(fuerzas_casimir)"
   ]
  },
  {
   "cell_type": "code",
   "execution_count": 119,
   "id": "wanted-tuition",
   "metadata": {},
   "outputs": [
    {
     "data": {
      "text/plain": [
       "10000"
      ]
     },
     "execution_count": 119,
     "metadata": {},
     "output_type": "execute_result"
    }
   ],
   "source": [
    "N"
   ]
  },
  {
   "cell_type": "code",
   "execution_count": 124,
   "id": "announced-tiffany",
   "metadata": {
    "scrolled": true
   },
   "outputs": [
    {
     "data": {
      "image/png": "[encoded data removed]",
      "text/plain": [
       "<Figure size 432x288 with 1 Axes>"
      ]
     },
     "metadata": {
      "needs_background": "light"
     },
     "output_type": "display_data"
    }
   ],
   "source": [
    "plt.plot(masas, fuerzas_analiticas, label = '$ F $', c = 'g')\n",
    "plt.plot(masas, fuerzas_numericas, label = '$< F >$')\n",
    "plt.fill_between(masas, (fuerzas_numericas - desviaciones_estandar ), \n",
    "                         fuerzas_numericas + desviaciones_estandar , \n",
    "                 alpha = 0.1, label = '$\\\\Delta$ F')\n",
    "\n",
    "plt.legend(bbox_to_anchor=(1.3,0.7), loc=\"upper right\")\n",
    "\n",
    "plt.title('Fuerza de casimir exacta vs numérica')\n",
    "plt.ylabel('$ a^2 \\, <F>$')\n",
    "plt.xlabel('$m \\, a$')\n",
    "\n",
    "plt.tight_layout()\n",
    "plt.savefig('fuerza_casimir_masa_linea.pdf')\n",
    "# plt.show()"
   ]
  },
  {
   "cell_type": "markdown",
   "id": "common-sweden",
   "metadata": {},
   "source": [
    "# Sirve para algo tener la distribución de la fuerza de casimir?"
   ]
  },
  {
   "cell_type": "code",
   "execution_count": 100,
   "id": "silver-township",
   "metadata": {},
   "outputs": [],
   "source": [
    "n_lines = 5*(10**4)\n",
    "N = 10**4\n",
    "\n",
    "y = generar_lineas(n_lines = n_lines, N = N, y0 = 0, yN = 0)\n",
    "delta = (y.max(axis = 1) - y.min(axis = 1))\n",
    "masas = np.linspace(0.01,5,1000)\n",
    "\n",
    "\n",
    "fuerzas = fuerza_casimir_numerica(a = 1,m = 0,delta = delta)"
   ]
  },
  {
   "cell_type": "code",
   "execution_count": 114,
   "id": "adapted-sweden",
   "metadata": {},
   "outputs": [
    {
     "data": {
      "image/png": "[encoded data removed]",
      "text/plain": [
       "<Figure size 432x288 with 1 Axes>"
      ]
     },
     "metadata": {
      "needs_background": "light"
     },
     "output_type": "display_data"
    }
   ],
   "source": [
    "plt.hist(fuerzas, bins = 100, density = True)\n",
    "plt.plot([fuerzas.mean(),fuerzas.mean()],[0,8])\n",
    "plt.errorbar(fuerzas.mean(), 4, xerr = fuerzas.std())\n",
    "plt.show()"
   ]
  }
 ],
 "metadata": {
  "kernelspec": {
   "display_name": "Python 3",
   "language": "python",
   "name": "python3"
  },
  "language_info": {
   "codemirror_mode": {
    "name": "ipython",
    "version": 3
   },
   "file_extension": ".py",
   "mimetype": "text/x-python",
   "name": "python",
   "nbconvert_exporter": "python",
   "pygments_lexer": "ipython3",
   "version": "3.8.5"
  }
 },
 "nbformat": 4,
 "nbformat_minor": 5
}
