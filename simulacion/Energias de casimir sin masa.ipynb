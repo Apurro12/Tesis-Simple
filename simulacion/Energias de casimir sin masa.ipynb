{
 "cells": [
  {
   "cell_type": "code",
   "execution_count": 1,
   "id": "decimal-receiver",
   "metadata": {},
   "outputs": [],
   "source": [
    "from scipy.special import gammaincc, gamma\n",
    "from matplotlib import pyplot as plt\n",
    "from funciones import *\n",
    "from numpy import pi\n",
    "import numpy as np\n",
    "from numpy import exp\n",
    "import tqdm\n",
    "from scipy.special import exp1"
   ]
  },
  {
   "cell_type": "code",
   "execution_count": 27,
   "id": "removable-saying",
   "metadata": {},
   "outputs": [],
   "source": [
    "def casimir_fuerza(a,y):\n",
    "    delta_y2 = ((y.max(axis = 1) - y.min(axis = 1))**2).mean()\n",
    "    return - delta_y2 / (8* (np.pi) * a**2)"
   ]
  },
  {
   "cell_type": "code",
   "execution_count": 28,
   "id": "sustainable-saver",
   "metadata": {},
   "outputs": [],
   "source": [
    "y = generar_lineas(n_lines =10**3, N = 10**3, y0 = 0, yN = 0)\n",
    "deltas = (y.max(axis = 1) - y.min(axis = 1))"
   ]
  },
  {
   "cell_type": "markdown",
   "id": "growing-customer",
   "metadata": {},
   "source": [
    "# Vamos a ver como se acomoda el resultado teorico al experimental"
   ]
  },
  {
   "cell_type": "code",
   "execution_count": 29,
   "id": "sapphire-peoples",
   "metadata": {},
   "outputs": [
    {
     "data": {
      "text/plain": [
       "-0.1308996938995747"
      ]
     },
     "execution_count": 29,
     "metadata": {},
     "output_type": "execute_result"
    }
   ],
   "source": [
    "F_teorica_a2 = -np.pi / (24)\n",
    "F_teorica_a2"
   ]
  },
  {
   "cell_type": "code",
   "execution_count": 30,
   "id": "endless-margin",
   "metadata": {},
   "outputs": [],
   "source": [
    "distancia = np.linspace(0.1,0.6,100)\n",
    "\n",
    "fuerza_teorica_a2 = -np.pi / 24\n",
    "fuerza_teorica    = fuerza_teorica_a2 / (distancia**2)"
   ]
  },
  {
   "cell_type": "markdown",
   "id": "responsible-nickel",
   "metadata": {},
   "source": [
    "# Vamos a medir como se parece lo teorico con lo numerico"
   ]
  },
  {
   "cell_type": "code",
   "execution_count": 54,
   "id": "entire-purchase",
   "metadata": {},
   "outputs": [
    {
     "name": "stdout",
     "output_type": "stream",
     "text": [
      "10000 10000 0.013437657732987844\n",
      "1000 10000 0.02401792476608382\n",
      "100 10000 0.037563650031522886\n",
      "10000 1000 0.054154965498005025\n",
      "1000 1000 0.058917667870921966\n",
      "100 1000 0.10108970853039599\n",
      "10000 100 0.17389232421338313\n",
      "1000 100 0.1889731731614517\n",
      "100 100 0.20422722361377102\n"
     ]
    }
   ],
   "source": [
    "n_lines_, N_ = [10000,1000, 100, 10000,1000, 100, 10000,1000, 100], [10000,10000, 10000, 1000,1000, 1000,100,100,100]\n",
    "\n",
    "for n_lines, N in zip(n_lines_, N_):\n",
    "    \n",
    "    y = generar_lineas(n_lines =n_lines, N = N, y0 = 0, yN = 0)\n",
    "    casimir_fuerza(1, y)\n",
    "    \n",
    "    print(n_lines, N, np.abs((casimir_fuerza(1, y) - F_teorica_a2) / F_teorica_a2))"
   ]
  },
  {
   "cell_type": "code",
   "execution_count": 55,
   "id": "virgin-business",
   "metadata": {},
   "outputs": [
    {
     "name": "stdout",
     "output_type": "stream",
     "text": [
      "100000 10000 0.017050692687314996\n",
      "10000 100000 0.0002469800786256464\n"
     ]
    }
   ],
   "source": [
    "n_lines_, N_ = [100000,10000], [10000,100000]\n",
    "\n",
    "for n_lines, N in zip(n_lines_, N_):\n",
    "    \n",
    "    y = generar_lineas(n_lines =n_lines, N = N, y0 = 0, yN = 0)\n",
    "    casimir_fuerza(1, y)\n",
    "    \n",
    "    print(n_lines, N, np.abs((casimir_fuerza(1, y) - F_teorica_a2) / F_teorica_a2))"
   ]
  },
  {
   "cell_type": "markdown",
   "id": "humanitarian-humanity",
   "metadata": {},
   "source": [
    "### Graficar las dos curvas juntas"
   ]
  },
  {
   "cell_type": "code",
   "execution_count": 31,
   "id": "sorted-indication",
   "metadata": {},
   "outputs": [],
   "source": [
    "y = generar_lineas(n_lines = 1000, N = 1000, y0 = 0, yN = 0)\n",
    "fuerza_numerica = casimir_fuerza(distancia,y)"
   ]
  },
  {
   "cell_type": "code",
   "execution_count": 32,
   "id": "collected-reply",
   "metadata": {},
   "outputs": [
    {
     "data": {
      "image/png": "[encoded data removed]",
      "text/plain": [
       "<Figure size 432x288 with 1 Axes>"
      ]
     },
     "metadata": {
      "needs_background": "light"
     },
     "output_type": "display_data"
    }
   ],
   "source": [
    "plt.plot(distancia,fuerza_numerica)\n",
    "plt.plot(distancia,fuerza_teorica)\n",
    "\n",
    "plt.show()"
   ]
  },
  {
   "cell_type": "code",
   "execution_count": 33,
   "id": "flush-google",
   "metadata": {},
   "outputs": [],
   "source": [
    "def casimir_fuerza(a,y):\n",
    "    delta_y2 = ((y.max(axis = 1) - y.min(axis = 1))**2)\n",
    "    return - delta_y2 / (8* (np.pi) * a**2)"
   ]
  },
  {
   "cell_type": "code",
   "execution_count": 34,
   "id": "conventional-passing",
   "metadata": {},
   "outputs": [],
   "source": [
    "valores_medios = []\n",
    "errores = []\n",
    "for a in distancia:\n",
    "    valores_medios.append(casimir_fuerza(a,y).mean())\n",
    "    errores.append(casimir_fuerza(a,y).std())\n",
    "    \n",
    "errores = np.array(errores)\n",
    "valores_medios = np.array(valores_medios)"
   ]
  },
  {
   "cell_type": "code",
   "execution_count": 36,
   "id": "bacterial-pleasure",
   "metadata": {},
   "outputs": [
    {
     "data": {
      "image/png": "[encoded data removed]",
      "text/plain": [
       "<Figure size 432x288 with 1 Axes>"
      ]
     },
     "metadata": {
      "needs_background": "light"
     },
     "output_type": "display_data"
    }
   ],
   "source": [
    "plt.plot(distancia, valores_medios)\n",
    "plt.plot(distancia,fuerza_teorica)\n",
    "\n",
    "plt.fill_between(distancia, valores_medios - errores, valores_medios + errores, \n",
    "                 alpha = 0.1, label = '$\\\\Delta$ F')\n",
    "\n",
    "\n",
    "plt.show()"
   ]
  },
  {
   "cell_type": "markdown",
   "id": "cheap-edinburgh",
   "metadata": {},
   "source": [
    "# Ver graficamente la convergencia con el numero de loops"
   ]
  }
 ],
 "metadata": {
  "kernelspec": {
   "display_name": "Python 3",
   "language": "python",
   "name": "python3"
  },
  "language_info": {
   "codemirror_mode": {
    "name": "ipython",
    "version": 3
   },
   "file_extension": ".py",
   "mimetype": "text/x-python",
   "name": "python",
   "nbconvert_exporter": "python",
   "pygments_lexer": "ipython3",
   "version": "3.8.5"
  }
 },
 "nbformat": 4,
 "nbformat_minor": 5
}
